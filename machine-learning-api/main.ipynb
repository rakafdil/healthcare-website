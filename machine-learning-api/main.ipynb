{
 "cells": [
  {
   "cell_type": "code",
   "execution_count": 14,
   "id": "18956482",
   "metadata": {},
   "outputs": [
    {
     "name": "stdout",
     "output_type": "stream",
     "text": [
      "131\n",
      " * Serving Flask app '__main__'\n",
      " * Debug mode: on\n"
     ]
    },
    {
     "name": "stderr",
     "output_type": "stream",
     "text": [
      "WARNING: This is a development server. Do not use it in a production deployment. Use a production WSGI server instead.\n",
      " * Running on http://127.0.0.1:5050\n",
      "Press CTRL+C to quit\n",
      "127.0.0.1 - - [11/May/2025 22:53:03] \"POST /predict HTTP/1.1\" 200 -\n"
     ]
    },
    {
     "name": "stdout",
     "output_type": "stream",
     "text": [
      "131\n",
      "Received symptoms: {'dizziness': 1, 'headache': 1}\n",
      "Feature vector: [[0, 0, 0, 0, 0, 0, 0, 0, 0, 0, 0, 0, 0, 0, 0, 0, 0, 0, 0, 0, 0, 0, 0, 0, 0, 0, 0, 0, 0, 0, 0, 1, 0, 0, 0, 0, 0, 0, 0, 0, 0, 0, 0, 0, 0, 0, 0, 0, 0, 0, 0, 0, 0, 0, 0, 0, 0, 0, 0, 0, 0, 0, 0, 0, 1, 0, 0, 0, 0, 0, 0, 0, 0, 0, 0, 0, 0, 0, 0, 0, 0, 0, 0, 0, 0, 0, 0, 0, 0, 0, 0, 0, 0, 0, 0, 0, 0, 0, 0, 0, 0, 0, 0, 0, 0, 0, 0, 0, 0, 0, 0, 0, 0, 0, 0, 0, 0, 0, 0, 0, 0, 0, 0, 0, 0, 0, 0, 0, 0, 0, 0]]\n"
     ]
    }
   ],
   "source": [
    "from flask import Flask, request, jsonify\n",
    "import pickle\n",
    "import numpy as np\n",
    "import pandas as pd\n",
    "import json\n",
    "\n",
    "with open(\"symptom_index.json\") as f:\n",
    "    symptoms = json.load(f)\n",
    "\n",
    "# Load the model\n",
    "model = pickle.load(open('ExtraTrees.pkl', 'rb'))\n",
    "\n",
    "diseases = [\n",
    "    '(vertigo) Paroymsal  Positional Vertigo', 'AIDS', 'Acne', 'Alcoholic hepatitis', 'Allergy', \n",
    "    'Arthritis', 'Bronchial Asthma', 'Cervical spondylosis', 'Chicken pox', 'Chronic cholestasis', \n",
    "    'Common Cold', 'Dengue', 'Diabetes', 'Dimorphic hemmorhoids(piles)', 'Drug Reaction', \n",
    "    'Fungal infection', 'GERD', 'Gastroenteritis', 'Heart attack', 'Hepatitis B', 'Hepatitis C', \n",
    "    'Hepatitis D', 'Hepatitis E', 'Hypertension', 'Hyperthyroidism', 'Hypoglycemia', 'Hypothyroidism', \n",
    "    'Impetigo', 'Jaundice', 'Malaria', 'Migraine', 'Osteoarthristis', 'Paralysis (brain hemorrhage)', \n",
    "    'Peptic ulcer diseae', 'Pneumonia', 'Psoriasis', 'Tuberculosis', 'Typhoid', \n",
    "    'Urinary tract infection', 'Varicose veins', 'hepatitis A'\n",
    "]\n",
    "\n",
    "\n",
    "print(len(symptoms))\n",
    "desc=pd.read_csv(\"symptoms-datasets/symptom_Description.csv\")\n",
    "prec=pd.read_csv(\"symptoms-datasets/symptom_precaution.csv\")\n",
    "app = Flask(__name__)\n",
    "\n",
    "\n",
    "@app.route('/', methods=[\"GET\"])\n",
    "def home():\n",
    "    return app.send_static_file('index.html')\n",
    "\n",
    "@app.route('/predict', methods=['POST'])\n",
    "def predict():\n",
    "    features=pd.Series([0]*131, index=symptoms)\n",
    "    print(len(features))\n",
    "    # Parse the JSON input\n",
    "    data = request.get_json(force=True)\n",
    "    print(\"Received symptoms:\", data)\n",
    "\n",
    "    # Set features to 1 where symptoms are present\n",
    "    for symptom in data:\n",
    "        if symptom in features.index:\n",
    "            features[symptom] = 1\n",
    "\n",
    "    # Convert to NumPy and reshape\n",
    "    features = features.to_numpy().reshape(1, -1)\n",
    "    print(\"Feature vector:\", features.tolist())\n",
    "\n",
    "    # Predict probabilities\n",
    "    proba = model.predict_proba(features)\n",
    "\n",
    "    # Top 5 predicted classes and their probabilities\n",
    "    top5_idx = np.argsort(proba[0])[-5:][::-1]\n",
    "    top5_proba = np.sort(proba[0])[-5:][::-1]\n",
    "    top5_diseases = [diseases[i] for i in top5_idx]\n",
    "\n",
    "    # Build response\n",
    "    response = []\n",
    "    for i in range(5):\n",
    "        disease = top5_diseases[i]\n",
    "        probability = float(top5_proba[i])\n",
    "        \n",
    "        # Disease description\n",
    "        disp = desc[desc['Disease'] == disease].values[0][1] if disease in desc[\"Disease\"].unique() else \"No description available\"\n",
    "        \n",
    "        # Precautions\n",
    "        precautions = []\n",
    "        if disease in prec[\"Disease\"].unique():\n",
    "            c = np.where(prec['Disease'] == disease)[0][0]\n",
    "            for j in range(1, len(prec.iloc[c])):\n",
    "                precautions.append(prec.iloc[c, j])\n",
    "        \n",
    "        # Add to response\n",
    "        response.append({\n",
    "            'disease': disease,\n",
    "            'probability': probability,\n",
    "            'description': disp,\n",
    "            'precautions': precautions\n",
    "        })\n",
    "\n",
    "    return jsonify(response)\n",
    "\n",
    "\n",
    "if __name__ == '__main__':\n",
    "    app.run(port=5050, debug=True, use_reloader=False)\n"
   ]
  },
  {
   "cell_type": "code",
   "execution_count": null,
   "id": "89b5f450",
   "metadata": {},
   "outputs": [],
   "source": []
  }
 ],
 "metadata": {
  "kernelspec": {
   "display_name": "Python 3",
   "language": "python",
   "name": "python3"
  },
  "language_info": {
   "codemirror_mode": {
    "name": "ipython",
    "version": 3
   },
   "file_extension": ".py",
   "mimetype": "text/x-python",
   "name": "python",
   "nbconvert_exporter": "python",
   "pygments_lexer": "ipython3",
   "version": "3.10.4"
  }
 },
 "nbformat": 4,
 "nbformat_minor": 5
}
